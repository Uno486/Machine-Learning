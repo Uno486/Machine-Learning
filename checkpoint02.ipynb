{
 "cells": [
  {
   "cell_type": "markdown",
   "id": "bee32768",
   "metadata": {},
   "source": [
    "# Question:01"
   ]
  },
  {
   "cell_type": "code",
   "execution_count": 162,
   "id": "2d578462",
   "metadata": {},
   "outputs": [
    {
     "name": "stdout",
     "output_type": "stream",
     "text": [
      "[2002, 2009, 2016, 2023, 2037, 2044, 2051, 2058, 2072, 2079, 2086, 2093, 2107, 2114, 2121, 2128, 2142, 2149, 2156, 2163, 2177, 2184, 2191, 2198, 2212, 2219, 2226, 2233, 2247, 2254, 2261, 2268, 2282, 2289, 2296, 2303, 2317, 2324, 2331, 2338, 2352, 2359, 2366, 2373, 2387, 2394, 2401, 2408, 2422, 2429, 2436, 2443, 2457, 2464, 2471, 2478, 2492, 2499, 2506, 2513, 2527, 2534, 2541, 2548, 2562, 2569, 2576, 2583, 2597, 2604, 2611, 2618, 2632, 2639, 2646, 2653, 2667, 2674, 2681, 2688, 2702, 2709, 2716, 2723, 2737, 2744, 2751, 2758, 2772, 2779, 2786, 2793, 2807, 2814, 2821, 2828, 2842, 2849, 2856, 2863, 2877, 2884, 2891, 2898, 2912, 2919, 2926, 2933, 2947, 2954, 2961, 2968, 2982, 2989, 2996, 3003, 3017, 3024, 3031, 3038, 3052, 3059, 3066, 3073, 3087, 3094, 3101, 3108, 3122, 3129, 3136, 3143, 3157, 3164, 3171, 3178, 3192, 3199]\n"
     ]
    }
   ],
   "source": [
    "liste=[]\n",
    "for x in range(2000,3200):\n",
    "    if(x%7==0 and x%5!=0):\n",
    "         liste.append(x)\n",
    "print(liste)   "
   ]
  },
  {
   "cell_type": "markdown",
   "id": "d2903d4f",
   "metadata": {},
   "source": [
    "# Question:02"
   ]
  },
  {
   "cell_type": "code",
   "execution_count": 170,
   "id": "fa09a0d4",
   "metadata": {},
   "outputs": [
    {
     "name": "stdout",
     "output_type": "stream",
     "text": [
      "5\n",
      "120\n"
     ]
    }
   ],
   "source": [
    "x=int(input())\n",
    "n=1\n",
    "for i in range(1,x+1):\n",
    "    n=n*i\n",
    "print(n)\n",
    "    "
   ]
  },
  {
   "cell_type": "markdown",
   "id": "b00c3606",
   "metadata": {},
   "source": [
    "# Question:03"
   ]
  },
  {
   "cell_type": "code",
   "execution_count": 182,
   "id": "8bf8a6f3",
   "metadata": {},
   "outputs": [
    {
     "name": "stdout",
     "output_type": "stream",
     "text": [
      "8\n"
     ]
    },
    {
     "data": {
      "text/plain": [
       "{1: 1, 2: 4, 3: 9, 4: 16, 5: 25, 6: 36, 7: 49, 8: 64}"
      ]
     },
     "execution_count": 182,
     "metadata": {},
     "output_type": "execute_result"
    }
   ],
   "source": [
    "x=int(input())\n",
    "dic1={}\n",
    "for i in range(1,x+1):\n",
    "    dic1[i]=i*i\n",
    "   \n",
    "dic1\n"
   ]
  },
  {
   "cell_type": "markdown",
   "id": "5d6969bc",
   "metadata": {},
   "source": [
    "# Question:04"
   ]
  },
  {
   "cell_type": "code",
   "execution_count": 222,
   "id": "cca0be7d",
   "metadata": {},
   "outputs": [
    {
     "name": "stdout",
     "output_type": "stream",
     "text": [
      "kitten\n",
      "2\n",
      "kitten-->kiten\n",
      "missing_char is:t\n"
     ]
    }
   ],
   "source": [
    "char=input()\n",
    "n=int(input())\n",
    "if(n<=len(char)):\n",
    "    s1=char[:n]\n",
    "    s2=char[n+1:]\n",
    "    print(char+\"-->\"+s1+s2)\n",
    "    print(\"missing_char is:\"+char[n])\n",
    "else:\n",
    "    print(\"you must give a number lowen than:\",len(char))\n",
    "    n=int(input())\n",
    "    s1=char[:n]\n",
    "    s2=char[n+1:]\n",
    "    print(char+\"-->\"+s1+s2)\n",
    "    print(\"missing_char is:\"+char[n])\n"
   ]
  },
  {
   "cell_type": "markdown",
   "id": "aac657a6",
   "metadata": {},
   "source": [
    "# Question:05"
   ]
  },
  {
   "cell_type": "code",
   "execution_count": 240,
   "id": "e66ef919",
   "metadata": {
    "scrolled": true
   },
   "outputs": [
    {
     "name": "stdout",
     "output_type": "stream",
     "text": [
      "<class 'list'>\n"
     ]
    },
    {
     "data": {
      "text/plain": [
       "[[1, 2, 3], [4, 5, 6]]"
      ]
     },
     "execution_count": 240,
     "metadata": {},
     "output_type": "execute_result"
    }
   ],
   "source": [
    "import numpy as np\n",
    "a=np.array([[1,2,3],[4,5,6]])\n",
    "liste=a.tolist()\n",
    "print(type(liste))\n",
    "liste"
   ]
  },
  {
   "cell_type": "markdown",
   "id": "5ab52515",
   "metadata": {},
   "source": [
    "#  Question:06"
   ]
  },
  {
   "cell_type": "code",
   "execution_count": 242,
   "id": "ae086da9",
   "metadata": {},
   "outputs": [
    {
     "data": {
      "text/plain": [
       "array([[ 1., -1.],\n",
       "       [-1.,  1.]])"
      ]
     },
     "execution_count": 242,
     "metadata": {},
     "output_type": "execute_result"
    }
   ],
   "source": [
    "import numpy as np\n",
    "a=np.array([0,1,2])\n",
    "b=np.array([2,1,0])\n",
    "c=np.cov(a,b)\n",
    "c"
   ]
  },
  {
   "cell_type": "markdown",
   "id": "402d5537",
   "metadata": {},
   "source": [
    "#   Question:07"
   ]
  },
  {
   "cell_type": "code",
   "execution_count": 243,
   "id": "cf4a6de6",
   "metadata": {},
   "outputs": [
    {
     "name": "stdout",
     "output_type": "stream",
     "text": [
      "100,150,180\n",
      "[18, 22, 24]\n"
     ]
    }
   ],
   "source": [
    "import math\n",
    "d=input().split(',')\n",
    "h=30\n",
    "c=50\n",
    "q=[]\n",
    "for i in d:\n",
    "    a=math.sqrt((2*c*int(i))/h)\n",
    "    q.append(round(a))\n",
    "print(q)\n"
   ]
  }
 ],
 "metadata": {
  "kernelspec": {
   "display_name": "Python 3 (ipykernel)",
   "language": "python",
   "name": "python3"
  },
  "language_info": {
   "codemirror_mode": {
    "name": "ipython",
    "version": 3
   },
   "file_extension": ".py",
   "mimetype": "text/x-python",
   "name": "python",
   "nbconvert_exporter": "python",
   "pygments_lexer": "ipython3",
   "version": "3.9.7"
  }
 },
 "nbformat": 4,
 "nbformat_minor": 5
}
